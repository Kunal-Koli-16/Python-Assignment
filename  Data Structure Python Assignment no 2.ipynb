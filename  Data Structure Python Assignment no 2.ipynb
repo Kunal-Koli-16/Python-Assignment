{
 "cells": [
  {
   "cell_type": "markdown",
   "id": "475c5559",
   "metadata": {},
   "source": [
    "Q1. Discuss string slicing and provide examples"
   ]
  },
  {
   "cell_type": "code",
   "execution_count": 6,
   "id": "c91834bb",
   "metadata": {},
   "outputs": [
    {
     "name": "stdout",
     "output_type": "stream",
     "text": [
      "Hello Worl\n",
      "lo\n",
      "Worl\n",
      "HloWr\n",
      "ello World\n"
     ]
    }
   ],
   "source": [
    "# ans=>\n",
    "# - we perform slicing using indices of string\n",
    "# - in slicing there  is start , end and step value\n",
    "# - we also use negative integer for slicing\n",
    "\n",
    "#example\n",
    "\n",
    "str1 = \"Hello World\"\n",
    "print(str1[:-1]) # here we use negative integer \n",
    "print(str1[3:5])\n",
    "print(str1[-5:-1])\n",
    "print(str1[0:-1:2]) # here we use step value\n",
    "print(str1[1:])\n"
   ]
  },
  {
   "cell_type": "markdown",
   "id": "2d9acc50",
   "metadata": {},
   "source": [
    "\n",
    "Q2. Explain the key features of lists in Python"
   ]
  },
  {
   "cell_type": "markdown",
   "id": "92d11e79",
   "metadata": {},
   "source": [
    "ans =>\n",
    "- ordered collection of elements\n",
    "- access element by indices\n",
    "- list is mutable\n",
    "- we add element in list using .append()\n",
    "- we delete last element in list using .pop() \n",
    "- we can check length of list using len()\n",
    "- list is Heterogeneous we can store any datatype in list\n",
    "- we can sort the list using sort()\n",
    "- we also modify element in list\n",
    "- list is also Iterable\n",
    "   these are the key features of list in python\n"
   ]
  },
  {
   "cell_type": "markdown",
   "id": "cfb02375",
   "metadata": {},
   "source": [
    "Q3. Describe how to access, modify, and delete elements in a list with examples"
   ]
  },
  {
   "cell_type": "code",
   "execution_count": 21,
   "id": "f8d2d3a6",
   "metadata": {},
   "outputs": [
    {
     "name": "stdout",
     "output_type": "stream",
     "text": [
      "virat\n",
      "rajat\n",
      "\n",
      "-----------------------------------\n",
      "['apple', 'berry', 'mango']\n",
      "modified list\n",
      "['banana', 'mango', 'kiwi']\n",
      "\n",
      "-----------------------------------\n",
      "we delete last element in list : 5\n",
      "we delete using indices : 3\n",
      "list after delete elements : [1, 2, 4]\n"
     ]
    }
   ],
   "source": [
    "# ans =>\n",
    "\n",
    "# - for access element in list we use indices \n",
    "# example\n",
    "\n",
    "name = [\"virat\" , \"maxi\" , \"ABD\" , \"rajat\"]\n",
    "print(name[0]) \n",
    "print(name[3])\n",
    "\n",
    "print()\n",
    "# - modify element in list\n",
    "#example\n",
    "print(\"-----------------------------------\")\n",
    "\n",
    "fruit = [\"apple\" , \"berry\" , \"mango\"]\n",
    "print(fruit)\n",
    "\n",
    "print(\"modified list\")\n",
    "fruit.append(\"kiwi\") #we append element in list\n",
    "fruit.pop(0)         # here we delete element using index\n",
    "fruit[0] = \"banana\"\n",
    "print(fruit)\n",
    "\n",
    "print()\n",
    "print(\"-----------------------------------\")\n",
    "#delete element \n",
    "\n",
    "num = [1,2,3,4,5]\n",
    "print(\"we delete last element in list :\",num.pop()) #we use .pop()\n",
    "print(\"we delete using indices :\" , num.pop(2))\n",
    "print(\"list after delete elements :\" , num)"
   ]
  },
  {
   "cell_type": "markdown",
   "id": "44760fe1",
   "metadata": {},
   "source": [
    "Q4.Compare and contrast tuples and lists with examples"
   ]
  },
  {
   "cell_type": "code",
   "execution_count": 32,
   "id": "b9379489",
   "metadata": {},
   "outputs": [
    {
     "name": "stdout",
     "output_type": "stream",
     "text": [
      "rajat\n",
      "virat\n",
      "______________________________\n",
      "2\n",
      "[1, 3, 4, 5, 10]\n"
     ]
    }
   ],
   "source": [
    "# ans =>\n",
    "# tuple :\n",
    "#  - tuple is immutable we cannot modify tuple\n",
    "#  - we access element using indices\n",
    "#  - ordered collection of elements\n",
    "#  - secure way to store data\n",
    "\n",
    "names = (\"virat\" , \"maxi\" , \"rajat\")\n",
    "print(names[2])\n",
    "print(names[0])\n",
    "\n",
    "print(\"______________________________\")\n",
    "\n",
    "#List :\n",
    "#  - ordered mutable collection of elements\n",
    "#  - access element using indices\n",
    "#  - we can also modify the list \n",
    "\n",
    "nums = [1,2,3,4,5]\n",
    "nums.append(10)\n",
    "print(nums.pop(1))\n",
    "\n",
    "print(nums)\n"
   ]
  },
  {
   "cell_type": "markdown",
   "id": "0b17cb74",
   "metadata": {},
   "source": [
    "Q5. Describe the key features of sets and provide examples of their use\n"
   ]
  },
  {
   "cell_type": "code",
   "execution_count": 43,
   "id": "bc0622c0",
   "metadata": {},
   "outputs": [
    {
     "name": "stdout",
     "output_type": "stream",
     "text": [
      "{11, 31, 'ajay', 22}\n",
      "after adding element :  {100, 11, 'ajay', 22, 31}\n",
      "after removing element :  {100, 11, 22, 31}\n",
      "\n",
      "we also iterate on set :\n",
      "100 11 22 31 "
     ]
    }
   ],
   "source": [
    "#ans =>\n",
    "# - unordered collection of unique elements\n",
    "# - duplicate entries not allowed\n",
    "# - we can add or remove element from set\n",
    "# - we can use membership operator\n",
    "# - we cannot access element using index because set is unordered\n",
    "# - set is Heterogeneous \n",
    "\n",
    "s = {11,22,22,22,31,\"ajay\"}\n",
    "print(s)\n",
    "s.add(100)\n",
    "print(\"after adding element : \",s)\n",
    "s.remove(\"ajay\")\n",
    "print(\"after removing element : \",s)\n",
    "\n",
    "print()\n",
    "\n",
    "print(\"we also iterate on set :\")\n",
    "for i in s:\n",
    "    print(i , end=\" \")"
   ]
  },
  {
   "cell_type": "markdown",
   "id": "4b6497cb",
   "metadata": {},
   "source": [
    "Q6 .Discuss the use cases of tuples and sets in Python programming"
   ]
  },
  {
   "cell_type": "code",
   "execution_count": null,
   "id": "b1a0111c",
   "metadata": {},
   "outputs": [],
   "source": [
    "#ans =>\n",
    "# Tuple :\n",
    "# - tuples are used to store multiple items in a single variable\n",
    "# - used to store collections of element\n",
    "# - ordered and immutable\n",
    "# - tuple cannot be changed once it is defined\n",
    "# - secure way to store data\n",
    "\n",
    "#sets :\n",
    "# - sets are used to store multiple items in a single variable\n",
    "# - unordered collection of unique elements\n",
    "# - duplicate entries not allowed\n",
    "# - use for math operation such as union, intersection, difference, and symmetric difference\n",
    "# - set is Heterogeneous"
   ]
  },
  {
   "cell_type": "markdown",
   "id": "55f38bc5",
   "metadata": {},
   "source": [
    "Q7. Describe how to add, modify, and delete items in a dictionary with examples"
   ]
  },
  {
   "cell_type": "code",
   "execution_count": 60,
   "id": "1301917b",
   "metadata": {},
   "outputs": [
    {
     "name": "stdout",
     "output_type": "stream",
     "text": [
      "{'name': 'virat', 'age': 36}\n",
      "After adding  {'name': 'virat', 'age': 36, 'city': 'mumbai'}\n",
      "____________________________\n",
      "after modifying dict :  {'name': 'virat', 'age': 36, 'city': 'delhi'}\n",
      "_____________________________\n",
      "After deleting :  {'name': 'virat', 'age': 36}\n"
     ]
    }
   ],
   "source": [
    "# ans =>\n",
    "dict = {\"name\" : \"virat\" , \"age\" :36}\n",
    "print(dict)\n",
    "dict[\"city\"] = \"mumbai\"\n",
    "print(\"After adding \",dict)\n",
    "\n",
    "print(\"____________________________\")\n",
    "dict[\"city\"] = \"delhi\"\n",
    "print(\"after modifying dict : \", dict)\n",
    "\n",
    "print(\"_____________________________\")\n",
    "dict.pop(\"city\")\n",
    "print(\"After deleting : \" , dict)"
   ]
  },
  {
   "cell_type": "markdown",
   "id": "7966c388",
   "metadata": {},
   "source": [
    "Q8. Discuss the importance of dictionary keys being immutable and provide examples"
   ]
  },
  {
   "cell_type": "code",
   "execution_count": 77,
   "id": "97b3c7f7",
   "metadata": {},
   "outputs": [
    {
     "name": "stdout",
     "output_type": "stream",
     "text": [
      "{'name': 'virat', 'marks': 95, 'grade': 'A'}\n",
      "{'name': 'virat', 'marks': 95, 'grade': 'A', 'city': 'delhi'}\n",
      "{'name': 'virat', 'marks': 95, 'grade': 'A', 'city': 'mumbai'}\n",
      "Deleted value :  95\n",
      "{'name': 'virat', 'grade': 'A', 'city': 'mumbai'}\n"
     ]
    }
   ],
   "source": [
    "#ans =>\n",
    "# - beceause of using keys we access values in dictionary\n",
    "# - If a key was mutable its hash value could change\n",
    "# - not allowed duplicate keys , keys need to be unique\n",
    "# - dictionaries use keys to determine the storage and retrieval of values.\n",
    "# - keys are important to perform operations on dictionary\n",
    "\n",
    "stu = {\"name\" : \"virat\" , \"marks\" : 95 , \"grade\" : \"A\"}\n",
    "print(stu)\n",
    "\n",
    "stu[\"city\"] = \"delhi\"  # here we add key : value pair\n",
    "print(stu)\n",
    "\n",
    "stu[\"city\"] = \"mumbai\" # here we access key and change the value\n",
    "print(stu)\n",
    "\n",
    "print(\"Deleted value : \" ,stu.pop(\"marks\")) # here we access key for delete the key : value pair\n",
    "print(stu)"
   ]
  },
  {
   "cell_type": "code",
   "execution_count": null,
   "id": "324f700e",
   "metadata": {},
   "outputs": [],
   "source": []
  }
 ],
 "metadata": {
  "kernelspec": {
   "display_name": "Python 3 (ipykernel)",
   "language": "python",
   "name": "python3"
  },
  "language_info": {
   "codemirror_mode": {
    "name": "ipython",
    "version": 3
   },
   "file_extension": ".py",
   "mimetype": "text/x-python",
   "name": "python",
   "nbconvert_exporter": "python",
   "pygments_lexer": "ipython3",
   "version": "3.11.3"
  }
 },
 "nbformat": 4,
 "nbformat_minor": 5
}
