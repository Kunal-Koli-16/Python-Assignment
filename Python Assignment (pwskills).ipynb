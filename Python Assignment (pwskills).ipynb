{
 "cells": [
  {
   "cell_type": "markdown",
   "id": "d14b886b",
   "metadata": {},
   "source": [
    "# Q1. Explain the key features of Python that make it a popular choice for programming."
   ]
  },
  {
   "cell_type": "raw",
   "id": "49802bba",
   "metadata": {},
   "source": [
    "ans=> \n",
    "-simple and easy to use\n",
    "-easy to learn\n",
    "-portable\n",
    "-object oriented language\n",
    "-dynamically typed\n",
    "-open source\n",
    "-interpreted\n",
    "-large standard library\n",
    "this are the most important features of python and python is a\n",
    "beginner friendly language "
   ]
  },
  {
   "cell_type": "markdown",
   "id": "743d922a",
   "metadata": {},
   "source": [
    "Q2. Describe the role of predefined keywords in Python and provide examples of how they are used in a\n",
    "program."
   ]
  },
  {
   "cell_type": "raw",
   "id": "d809cc39",
   "metadata": {},
   "source": [
    "ans=>\n",
    "- predefine keyword are reserved words in python \n",
    "-every keyword have their specific meaning\n",
    " like if else we use this keywords in conditional statements\n",
    "- we cannot define keywords as variable\n"
   ]
  },
  {
   "cell_type": "code",
   "execution_count": 93,
   "id": "63e04acc",
   "metadata": {},
   "outputs": [
    {
     "name": "stdout",
     "output_type": "stream",
     "text": [
      "1 2 3 4 5 "
     ]
    }
   ],
   "source": [
    "#example\n",
    "#here we use for keyword\n",
    "for i in range(1,6):\n",
    "    print(i , end =\" \")\n",
    "\n"
   ]
  },
  {
   "cell_type": "markdown",
   "id": "80607f28",
   "metadata": {},
   "source": [
    "Q3. Compare and contrast mutable and immutable objects in Python with examples"
   ]
  },
  {
   "cell_type": "code",
   "execution_count": 8,
   "id": "25311998",
   "metadata": {},
   "outputs": [
    {
     "name": "stdout",
     "output_type": "stream",
     "text": [
      "['cherry', 'apple', 'kiwi']\n"
     ]
    }
   ],
   "source": [
    "# ans=>\n",
    "# - mutable objects can be changed after creation \n",
    "# example = list , dict , set\n",
    "\n",
    "fruit = [\"mango\",\"apple\",\"kiwi\"]\n",
    "fruit[0] = \"cherry\"  # here we make change . we insert kiwi in 0 index\n",
    "print(fruit)\n"
   ]
  },
  {
   "cell_type": "code",
   "execution_count": 10,
   "id": "5701bcfb",
   "metadata": {},
   "outputs": [
    {
     "ename": "TypeError",
     "evalue": "'str' object does not support item assignment",
     "output_type": "error",
     "traceback": [
      "\u001b[1;31m---------------------------------------------------------------------------\u001b[0m",
      "\u001b[1;31mTypeError\u001b[0m                                 Traceback (most recent call last)",
      "Cell \u001b[1;32mIn[10], line 5\u001b[0m\n\u001b[0;32m      1\u001b[0m \u001b[38;5;66;03m# - immutable objects cannot be changed after creation\u001b[39;00m\n\u001b[0;32m      2\u001b[0m \u001b[38;5;66;03m# example = string , tuple , int , float \u001b[39;00m\n\u001b[0;32m      4\u001b[0m name \u001b[38;5;241m=\u001b[39m \u001b[38;5;124m\"\u001b[39m\u001b[38;5;124mLucifer\u001b[39m\u001b[38;5;124m\"\u001b[39m\n\u001b[1;32m----> 5\u001b[0m name[\u001b[38;5;241m0\u001b[39m] \u001b[38;5;241m=\u001b[39m \u001b[38;5;124m\"\u001b[39m\u001b[38;5;124mZ\u001b[39m\u001b[38;5;124m\"\u001b[39m\n",
      "\u001b[1;31mTypeError\u001b[0m: 'str' object does not support item assignment"
     ]
    }
   ],
   "source": [
    "# - immutable objects cannot be changed after creation\n",
    "# example = string , tuple , int , float \n",
    "\n",
    "name = \"Lucifer\"\n",
    "name[0] = \"Z\"\n",
    "#here we use string for immutable object"
   ]
  },
  {
   "cell_type": "markdown",
   "id": "d30f499b",
   "metadata": {},
   "source": [
    "Q4. Discuss the different types of operators in Python and provide examples of how they are used."
   ]
  },
  {
   "cell_type": "code",
   "execution_count": 46,
   "id": "615b1cdd",
   "metadata": {},
   "outputs": [
    {
     "name": "stdout",
     "output_type": "stream",
     "text": [
      "Arithmetic operators :\n",
      "add : 30\n",
      "sub : 10\n",
      "multi : 200\n",
      "div : 2\n",
      "\n",
      "Assignment operators:\n",
      "15\n",
      "10\n",
      "50\n",
      "10\n",
      "\n",
      "Comparison operators:\n"
     ]
    }
   ],
   "source": [
    "#ans=>\n",
    "# Arithmetic operators\n",
    "print(\"Arithmetic operators :\")\n",
    "a = 20\n",
    "b = 10\n",
    "print(\"add :\" ,a+b)\n",
    "print(\"sub :\" ,a-b)\n",
    "print(\"multi :\",a*b)\n",
    "print(\"div :\" ,a//b)\n",
    "\n",
    "print() # for next line\n",
    "\n",
    "#Assignment operators\n",
    "print(\"Assignment operators:\")\n",
    "\n",
    "x = 10\n",
    "x += 5\n",
    "print(x)\n",
    "x -= 5\n",
    "print(x)\n",
    "x *= 5\n",
    "print(x)\n",
    "x //= 5\n",
    "print(x)\n",
    "\n",
    "print()\n",
    "\n",
    "#Comparison operators\n",
    "print(\"Comparison operators:\")\n",
    "\n",
    "C = 20\n",
    "D = 30\n",
    "\n",
    "#C == D equal                   O/P = False\n",
    "#C != D not equal               O/P = True\n",
    "#C > D greater than             O/P = False\n",
    "#C < D less than                O/P = True\n",
    "#C >= D greater than equal to   O/P = False\n",
    "#C <= D less than equal to      O/P = True\n",
    "\n"
   ]
  },
  {
   "cell_type": "code",
   "execution_count": 67,
   "id": "05c4e1ab",
   "metadata": {},
   "outputs": [
    {
     "name": "stdout",
     "output_type": "stream",
     "text": [
      "Logical operators: \n",
      "\n",
      "Identity operators :\n",
      "\n",
      "Membership operators :\n"
     ]
    }
   ],
   "source": [
    "#Logical operators \n",
    "print(\"Logical operators: \")\n",
    "Z = 10\n",
    "# Z > 20 and Z == 10     O/P = False\n",
    "# Z > 20 or Z == 10      O/P = True\n",
    "# not Z > 20 and Z == 10 O/P = True\n",
    "\n",
    "print()\n",
    "\n",
    "#Identity operators \n",
    "print(\"Identity operators :\")\n",
    "\n",
    "fruit1 = \"Apple\"\n",
    "fruit2 = \"Mango\"\n",
    "\n",
    "# fruit1 is fruit2     O/P = False\n",
    "# fruit1 is not fruit2 O/P = True\n",
    "\n",
    "print()\n",
    "\n",
    "#Membership operators\n",
    "print(\"Membership operators :\")\n",
    "\n",
    "name = \"Lucifer\"\n",
    "# name is x  O/P = False \n",
    "# name is not x O/P = True\n"
   ]
  },
  {
   "cell_type": "markdown",
   "id": "b5df5862",
   "metadata": {},
   "source": [
    "Q5 Explain the concept of type casting in Python with examples"
   ]
  },
  {
   "cell_type": "code",
   "execution_count": 78,
   "id": "06abe67d",
   "metadata": {},
   "outputs": [
    {
     "name": "stdout",
     "output_type": "stream",
     "text": [
      "<class 'str'>\n",
      "<class 'int'>\n",
      "<class 'float'>\n"
     ]
    }
   ],
   "source": [
    "#ans=>\n",
    "\"\"\"\"\n",
    "-type casting means convert a veriable data type\n",
    "into another data type implicit or explicit\n",
    "\"\"\"\n",
    "#example \n",
    "num = \"3\"\n",
    "print(type(num))     #here we print num data type\n",
    "print(type(int(num))) # in this we convert string to int\n",
    "print(type(float(num))) # convert into float"
   ]
  },
  {
   "cell_type": "markdown",
   "id": "201b7533",
   "metadata": {},
   "source": [
    "\n",
    "Q6. How do conditional statements work in Python? Illustrate with examples"
   ]
  },
  {
   "cell_type": "code",
   "execution_count": 84,
   "id": "f843a1bf",
   "metadata": {},
   "outputs": [
    {
     "name": "stdout",
     "output_type": "stream",
     "text": [
      "Enter total marks : 99\n",
      "A GRADE\n"
     ]
    }
   ],
   "source": [
    "#ans =>\n",
    "\"\"\"\"\n",
    "-in conditional statement \n",
    "we have multiple condition . if any condition met \n",
    "then that block of code will execute\n",
    "- if\n",
    "-if else\n",
    "-elif\n",
    "\"\"\"\n",
    "#example \n",
    "\n",
    "marks = int(input(\"Enter total marks : \"))\n",
    "\n",
    "if marks >= 90:\n",
    "    print(\"A GRADE\")\n",
    "elif marks >= 80:\n",
    "    print(\"B GRADE\")\n",
    "elif marks >= 70:\n",
    "    print(\"C GRADE\")\n",
    "elif marks >= 60:\n",
    "    print(\"D GRADE\")\n",
    "else:\n",
    "    print(\"FAIL\")"
   ]
  },
  {
   "cell_type": "markdown",
   "id": "f65836e8",
   "metadata": {},
   "source": [
    "Q7. Describe the different types of loops in Python and their use cases with examples"
   ]
  },
  {
   "cell_type": "code",
   "execution_count": 92,
   "id": "e39db426",
   "metadata": {},
   "outputs": [
    {
     "name": "stdout",
     "output_type": "stream",
     "text": [
      "* * * * * \n",
      "* * * * * \n",
      "* * * * * \n",
      "* * * * * \n",
      "* * * * * \n",
      "----------------------------------\n",
      "While loop O/P\n",
      "1 2 3 4 5 6 7 8 9 10 "
     ]
    }
   ],
   "source": [
    "#ans =>\n",
    "\"\"\"\"\n",
    " we have two types of loop \n",
    "1) for loop\n",
    "- for loop use for iteration on list , string\n",
    "- we use range(start,end,step) function in for loop for sequence\n",
    "- mostly used in list\n",
    "\n",
    "2) while loop\n",
    "- in while loop we have a condition \n",
    "  if condition true then loop run and when \n",
    "  condition false the loop terminates\n",
    "\"\"\"\n",
    "#example (for loop)\n",
    "\n",
    "for i in range(5):\n",
    "    for j in range(5):\n",
    "        print(\"*\" ,end=\" \")\n",
    "    print()\n",
    "    \n",
    "#example (while loop)\n",
    "print(\"----------------------------------\") \n",
    "print(\"While loop O/P\")\n",
    "\n",
    "\n",
    "x = 1\n",
    "while x <= 10:\n",
    "    print(x , end=\" \")\n",
    "    x = x+1"
   ]
  },
  {
   "cell_type": "code",
   "execution_count": null,
   "id": "050b5d0c",
   "metadata": {},
   "outputs": [],
   "source": []
  }
 ],
 "metadata": {
  "kernelspec": {
   "display_name": "Python 3 (ipykernel)",
   "language": "python",
   "name": "python3"
  },
  "language_info": {
   "codemirror_mode": {
    "name": "ipython",
    "version": 3
   },
   "file_extension": ".py",
   "mimetype": "text/x-python",
   "name": "python",
   "nbconvert_exporter": "python",
   "pygments_lexer": "ipython3",
   "version": "3.11.3"
  }
 },
 "nbformat": 4,
 "nbformat_minor": 5
}
