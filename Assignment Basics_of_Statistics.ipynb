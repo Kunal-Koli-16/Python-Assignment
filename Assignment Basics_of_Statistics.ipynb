{
 "cells": [
  {
   "cell_type": "markdown",
   "id": "057abe9a",
   "metadata": {},
   "source": [
    "Q1. Explain the different types of data (qualitative and quantitative) and provide examples of each. Discuss\n",
    "nominal, ordinal, interval, and ratio scales."
   ]
  },
  {
   "cell_type": "markdown",
   "id": "850ed119",
   "metadata": {},
   "source": [
    "ans =>\n",
    "\n",
    "1)Qualitative Data\n",
    "  Qualitative data is non-numerical and describes qualities or characteristics.\n",
    "  It is often categorical and used to classify or label data points without measuring them.\n",
    "  example:Colors of cars (red, blue, green)\n",
    "\n",
    "2)Quantitative Data\n",
    "Quantitative data is numerical and represents measurable quantities.\n",
    "It can be further divided into discrete or continuous data.\n",
    "example: Number of students in a classroom (discrete data)\n",
    "\n",
    "*Nominal Scale :\n",
    "Data is categorized into distinct groups with no inherent order.\n",
    "\n",
    "*Ordinal Scale :\n",
    "Data is categorized into ordered groups, but the intervals between categories are not uniform or meaningful.\n",
    "\n",
    "*Interval Scale :\n",
    "\n",
    "Numerical data with equal intervals between values, but no true zero point.\n",
    "\n",
    "*Ratio Scale :\n",
    "Numerical data with equal intervals and a true zero point, allowing for meaningful ratios between values."
   ]
  },
  {
   "cell_type": "markdown",
   "id": "688e084a",
   "metadata": {},
   "source": [
    "-------------------------------------------------------------------------------------------------------------------------"
   ]
  },
  {
   "cell_type": "markdown",
   "id": "a54b11d8",
   "metadata": {},
   "source": [
    "Q2. What are the measures of central tendency, and when should you use each? Discuss the mean, median,\n",
    "and mode with examples and situations where each is appropriate"
   ]
  },
  {
   "cell_type": "code",
   "execution_count": 14,
   "id": "a6d91c87",
   "metadata": {},
   "outputs": [
    {
     "name": "stdout",
     "output_type": "stream",
     "text": [
      "Example of mean : 28.75\n",
      "Example of median : 30.0\n",
      "Example of mode : ModeResult(mode=array([30]), count=array([3]))\n"
     ]
    },
    {
     "name": "stderr",
     "output_type": "stream",
     "text": [
      "C:\\Users\\Smart\\AppData\\Local\\Temp\\ipykernel_1372\\2914692170.py:31: FutureWarning: Unlike other reduction functions (e.g. `skew`, `kurtosis`), the default behavior of `mode` typically preserves the axis it acts along. In SciPy 1.11.0, this behavior will change: the default value of `keepdims` will become False, the `axis` over which the statistic is taken will be eliminated, and the value None will no longer be accepted. Set `keepdims` to True or False to avoid this warning.\n",
      "  print(\"Example of mode :\",stats.mode(x))\n"
     ]
    }
   ],
   "source": [
    "\"\"\"\"\"\n",
    "ans =>\n",
    "* measures of Central tendency :\n",
    "The measures of central tendency summarize a dataset by identifying a central value around which the data points cluster.\n",
    "The three main measures are mean, median, and mode.\n",
    "Each has its own strengths and is appropriate in different situations.\n",
    "\n",
    "\n",
    "Measures of Central Tendency\n",
    "The measures of central tendency summarize a dataset by identifying a central value around which the data points cluster. The three main measures are mean, median, and mode. Each has its own strengths and is appropriate in different situations.\n",
    "\n",
    "1>>Mean\n",
    "The mean is the arithmetic average of a dataset. It is calculated by summing\n",
    "all the values and dividing by the number of values\n",
    "\n",
    "2>>median\n",
    "The median is the middle value in an ordered dataset. If the dataset has an even\n",
    "number of values, the median is the average of the two middle values.\n",
    "\n",
    "3>>Mode\n",
    "The mode is the most frequently occurring values in a dataset.\n",
    "\n",
    "\"\"\"\n",
    "#Example :\n",
    "import numpy as np\n",
    "from scipy import stats\n",
    "x = [10,20,30,40,50,30,20,30]\n",
    "\n",
    "print(\"Example of mean :\",np.mean(x))\n",
    "print(\"Example of median :\",np.median(x))\n",
    "print(\"Example of mode :\",stats.mode(x))\n",
    "\n"
   ]
  },
  {
   "cell_type": "markdown",
   "id": "6dda8f5a",
   "metadata": {},
   "source": [
    "---------------------------------------------------------------------------------------------------------------------"
   ]
  },
  {
   "cell_type": "markdown",
   "id": "33a8c16a",
   "metadata": {},
   "source": [
    "Q3. Explain the concept of dispersion. How do variance and standard deviation measure the spread of data?"
   ]
  },
  {
   "cell_type": "markdown",
   "id": "cadb98ba",
   "metadata": {},
   "source": [
    "ans =>\n",
    "* concept of dispersion :\n",
    "Dispersion refers to the degree to which data points in a dataset are spread out or scattered. While \n",
    "measures of central tendency mean, median, mode provide a central value,\n",
    "dispersion describes the variability, diversity, or distribution of data around that central value\n",
    "\n",
    "\n",
    "*Variance :\n",
    "Measures the average squared deviation from the mean.\n",
    "By squaring the deviations, it avoids cancellation of positive and negative differences.\n",
    "Emphasizes larger deviations due to squaring, making it sensitive to outliers.\n",
    "\n",
    "*Standard Deviation :\n",
    "Provides a practical measure of spread by converting variance back into the original units.\n",
    "Offers an intuitive sense of the average distance of data points from the mean.\n"
   ]
  },
  {
   "cell_type": "markdown",
   "id": "cf059c4d",
   "metadata": {},
   "source": [
    "----------------------------------------------------------------------------------------------------------------------"
   ]
  },
  {
   "cell_type": "markdown",
   "id": "be3ef7ce",
   "metadata": {},
   "source": [
    "Q4. What is a box plot, and what can it tell you about the distribution of data?"
   ]
  },
  {
   "cell_type": "markdown",
   "id": "371e435a",
   "metadata": {},
   "source": [
    "ans =>\n",
    "*box plot :\n",
    "A box plot is a graphical representation of the distribution of a dataset. \n",
    "It summarizes the data using five key numerical values\n",
    "and provides insights into the spread, center, and skewness of the data.\n",
    "\n",
    "\n",
    "*box plot  about the distribution of  data :\n",
    "1)Center:\n",
    "The line inside the box shows the median, indicating the central tendency of the data.\n",
    "\n",
    "2)Spread:\n",
    "The length of the box represents the spread of the middle 50% of the data.\n",
    "The distance between the whiskers indicates the overall range (excluding outliers).\n",
    "\n",
    "3)Skewness:\n",
    "If  median is closer to Q1, the data is positively skewed.\n",
    "If  median is closer to Q3, the data is negatively skewed.\n",
    "\n",
    "4)Outliers:\n",
    "Points outside the whiskers highlight extreme values that may need further investigation.\n",
    "\n",
    "5)Symmetry:\n",
    "If the box is centered and whiskers are roughly equal in length, the data is likely symmetric.\n"
   ]
  },
  {
   "cell_type": "markdown",
   "id": "1fa6c722",
   "metadata": {},
   "source": [
    "-----------------------------------------------------------------------------------------------------------------------"
   ]
  },
  {
   "cell_type": "markdown",
   "id": "9e46de9c",
   "metadata": {},
   "source": [
    "Q5. Discuss the role of random sampling in making inferences about populations."
   ]
  },
  {
   "cell_type": "markdown",
   "id": "43a47299",
   "metadata": {},
   "source": [
    "ans =>\n",
    "Random sampling is a technique in statistics that allows researchers to make inferences\n",
    "about a population based on a smaller subset . By selecting a representative sample through \n",
    "randomization, we ensure that every individual in the population has an equal chance\n",
    "of being included, reducing bias and increasing the accuracy of the conclusions."
   ]
  },
  {
   "cell_type": "markdown",
   "id": "b409e414",
   "metadata": {},
   "source": [
    "---------------------------------------------------------------------------------------------------------------------------"
   ]
  },
  {
   "cell_type": "markdown",
   "id": "fa830ed5",
   "metadata": {},
   "source": [
    "Q6. Explain the concept of skewness and its types. How does skewness affect the interpretation of data?"
   ]
  },
  {
   "cell_type": "markdown",
   "id": "c3f6f50a",
   "metadata": {},
   "source": [
    "ans =>\n",
    "* concept of Skewness:\n",
    "Skewness is a statistical measure that describes the asymmetry of a dataset distribution.\n",
    "While symmetric distributions, such as the normal distribution, have no skewness, \n",
    "skewed distributions show a lack of balance around their central value.\n",
    "\n",
    "* Types of Skewness :\n",
    "\n",
    "1) Positive Skewness:\n",
    "tail on the right side of the distribution is longer or heavier than the left tail.\n",
    "2) Negative Skewness:\n",
    "tail on the left side of the distribution is longer or heavier than the right tail.\n",
    "3) Zero Skewness:\n",
    "The distribution is perfectly symmetric, with no skewness."
   ]
  },
  {
   "cell_type": "markdown",
   "id": "81676448",
   "metadata": {},
   "source": [
    "-----------------------------------------------------------------------------------------------------"
   ]
  },
  {
   "cell_type": "markdown",
   "id": "2d0ff44c",
   "metadata": {},
   "source": [
    "Q7. What is the interquartile range (IQR), and how is it used to detect outliers?"
   ]
  },
  {
   "cell_type": "markdown",
   "id": "3b5abb98",
   "metadata": {},
   "source": [
    "* ans =>\n",
    "The Interquartile Range is a measure of statistical dispersion that represents the\n",
    "spread of the middle 50% of a dataset.It is calculated as the difference between the\n",
    "third quartile Q3 and the first quartile Q1\n",
    "\n",
    "* detect outliers :-\n",
    "\n",
    "1) Find Q1 and Q3  \n",
    "2)Calculate IQR  \n",
    "3)Determine the Fences  \n",
    "4)Identify Outliers  "
   ]
  },
  {
   "cell_type": "markdown",
   "id": "1bd29471",
   "metadata": {},
   "source": [
    "-----------------------------------------------------------------------------------------------------"
   ]
  },
  {
   "cell_type": "markdown",
   "id": "a622893d",
   "metadata": {},
   "source": [
    "Q8. Discuss the conditions under which the binomial distribution is used."
   ]
  },
  {
   "cell_type": "markdown",
   "id": "4bc405ce",
   "metadata": {},
   "source": [
    "ans =>\n",
    "\n",
    "1) Fixed Number of Trials:\n",
    "The experiment consists of a fixed number of trials (e.g., 10 coin flips, 100 survey responses).\n",
    "\n",
    "2) Binary Outcomes:\n",
    "Each trial results in one of two mutually exclusive outcomes, commonly referred to as success\n",
    "or failure \n",
    "e.g. heads or tails, pass or fail\n",
    "\n",
    "3) Independent Trials:\n",
    "The outcome of any trial does not influence the outcome of other trials. Each trial is independent.\n",
    "\n",
    "4) Constant Probability of Success:\n",
    "The probability of success remains the same for all trials.\n",
    "\n",
    "5) Discrete Variable:\n",
    "The variable of interest is the count of successes (X) in n trials, which is a discrete random variable.\n"
   ]
  },
  {
   "cell_type": "code",
   "execution_count": null,
   "id": "7cd1f2aa",
   "metadata": {},
   "outputs": [],
   "source": []
  }
 ],
 "metadata": {
  "kernelspec": {
   "display_name": "Python 3 (ipykernel)",
   "language": "python",
   "name": "python3"
  },
  "language_info": {
   "codemirror_mode": {
    "name": "ipython",
    "version": 3
   },
   "file_extension": ".py",
   "mimetype": "text/x-python",
   "name": "python",
   "nbconvert_exporter": "python",
   "pygments_lexer": "ipython3",
   "version": "3.11.3"
  }
 },
 "nbformat": 4,
 "nbformat_minor": 5
}
